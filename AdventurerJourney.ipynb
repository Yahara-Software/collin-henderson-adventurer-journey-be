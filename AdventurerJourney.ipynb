{
 "cells": [
  {
   "cell_type": "markdown",
   "metadata": {},
   "source": [
    "Adventurer Journey Coding Challenge - C# Notebook\n",
    "-------------------------------------------------------------\n",
    "This notebook contains the solution for Adventurer Journey.\n",
    "\n",
    "How to view or run\n",
    "------------------\n",
    "If using VSCode, install the latest .NET 8 SDK and get 'Polyglot Notebooks' from the VSCode marketplace.\n",
    "\n",
    "If there is no way to access VSCode, this .ipynb file including the results should be viewable in any .ipynb environment (e.g. Google Colab). However, I was not able to recreate the .NET runtime environment supported by Polyglot Notebooks in Google Colab so I am not sure if there is an easy way to run it there.\n",
    "\n",
    "On executing 'Run All', the directions used and the euclidean distance to the destination will be printed to console and returned.  \n",
    "Do not run an individual code block without running the previous one first; Each block is dependent on the previous.\n",
    "- The first block finds the instruction set.  \n",
    "- The second block parses the instructions.  \n",
    "- The final block computes the euclidean distance and returns the answer.\n",
    "\n",
    "--------------------------------------------------------------\n",
    "This first code snippet reads the directions in \n",
    "'Adventurer Path.md' into a String so that they may be parsed.\n",
    "\n",
    "*This code only reads the first line of directions it encounters in 'Adventurer Path.md'. If different directions are desired, insert directions above the default one, using the same backtick format for directions e.g. `1F4B3R9L`.*\n",
    "\n",
    "*On execution the directions being used are printed to console. If there is an issue finding the file or the directions an error message will display instead.*"
   ]
  },
  {
   "cell_type": "code",
   "execution_count": 1,
   "metadata": {
    "dotnet_interactive": {
     "language": "csharp"
    },
    "polyglot_notebook": {
     "kernelName": "csharp"
    }
   },
   "outputs": [
    {
     "name": "stdout",
     "output_type": "stream",
     "text": [
      "Directions to follow: 15F6B6B5L16R8B16F20L6F13F11R\r\n"
     ]
    }
   ],
   "source": [
    "using System.IO;\n",
    "\n",
    "String directions;\n",
    "try\n",
    "{\n",
    "    StreamReader sr = new StreamReader(\"Adventurer Path.md\");\n",
    "    String line = sr.ReadLine();\n",
    "    while (line != null)\n",
    "    {\n",
    "        if(line.Length == 0)\n",
    "        {\n",
    "            line = sr.ReadLine();\n",
    "            continue;\n",
    "        }\n",
    "        if(line[0] == '`')\n",
    "        {\n",
    "            directions = line.Substring(1, line.Length - 2);\n",
    "            break;\n",
    "        }\n",
    "        line = sr.ReadLine();\n",
    "    }\n",
    "    sr.Close();\n",
    "\n",
    "    if(string.IsNullOrEmpty(directions))\n",
    "    {\n",
    "        throw new ArgumentNullException(\"There were no instructions found in the file! Make sure a line of an instruction set surrounded by `backticks` exists in 'Adveturer Path.md'.\");\n",
    "    }\n",
    "    else\n",
    "    {\n",
    "        Console.WriteLine(\"Directions to follow: \" + directions);\n",
    "    }\n",
    "    \n",
    "}\n",
    "catch(Exception e)\n",
    "{\n",
    "    Console.WriteLine(\"Exception: \" + e.Message);\n",
    "}\n"
   ]
  },
  {
   "cell_type": "markdown",
   "metadata": {},
   "source": [
    "---------------------------------------------------------------\n",
    "The second code snippet parses the directions into integer values that can be used to \n",
    "find the euclidean distance from the origin(Adventurer's starting location).\n",
    "\n",
    "*If the instruction set is invalid, an exception will be thrown.*"
   ]
  },
  {
   "cell_type": "code",
   "execution_count": 2,
   "metadata": {
    "dotnet_interactive": {
     "language": "csharp"
    },
    "polyglot_notebook": {
     "kernelName": "csharp"
    }
   },
   "outputs": [],
   "source": [
    "int x = 0, y = 0;\n",
    "bool directionsInvalid = false;\n",
    "\n",
    "try\n",
    "{\n",
    "    \n",
    "    String numberOfSteps = string.Empty;\n",
    "    for(int i = 0; i < directions.Length; i++)\n",
    "    {\n",
    "        if(Char.IsDigit(directions, i))\n",
    "        {\n",
    "            numberOfSteps += directions[i];\n",
    "        }\n",
    "        else\n",
    "        {\n",
    "            int steps;\n",
    "            if(!Int32.TryParse(numberOfSteps, out steps))\n",
    "            {\n",
    "                throw new ArgumentException(\"Int32.TryParse failed to parse the steps. Make sure each direction has an integer for amount of steps directly before.\");\n",
    "            }\n",
    "            if(directions[i] == 'F')\n",
    "            {\n",
    "                y += steps;\n",
    "            }\n",
    "            else if(directions[i] == 'B')\n",
    "            {\n",
    "                y -= steps;\n",
    "            }\n",
    "            else if(directions[i] == 'R')\n",
    "            {\n",
    "                x += steps;\n",
    "            }\n",
    "            else if(directions[i] == 'L')\n",
    "            {\n",
    "                x -= steps;\n",
    "            }\n",
    "            else{\n",
    "                throw new ArgumentException($\"{directions[i]} is not a valid direction! Please use directions F, B, L, and R.\");\n",
    "            }\n",
    "            numberOfSteps = string.Empty;\n",
    "        }\n",
    "    }\n",
    "}\n",
    "catch(Exception e)\n",
    "{\n",
    "    directionsInvalid = true;\n",
    "    Console.WriteLine(e.Message);\n",
    "}\n"
   ]
  },
  {
   "cell_type": "markdown",
   "metadata": {},
   "source": [
    "-----------------------------------------------------------------------------------------------------\n",
    "The final code snippet calculates the euclidean distance from the starting point to the adventurer's destination.\n",
    "\n",
    "*On execution the problem solution is printed to console.*"
   ]
  },
  {
   "cell_type": "code",
   "execution_count": 3,
   "metadata": {
    "dotnet_interactive": {
     "language": "csharp"
    },
    "polyglot_notebook": {
     "kernelName": "csharp"
    }
   },
   "outputs": [
    {
     "name": "stdout",
     "output_type": "stream",
     "text": [
      "30.066592756745816\r\n"
     ]
    },
    {
     "data": {
      "text/html": [
       "<div class=\"dni-plaintext\"><pre>30.066592756745816</pre></div><style>\r\n",
       ".dni-code-hint {\r\n",
       "    font-style: italic;\r\n",
       "    overflow: hidden;\r\n",
       "    white-space: nowrap;\r\n",
       "}\r\n",
       ".dni-treeview {\r\n",
       "    white-space: nowrap;\r\n",
       "}\r\n",
       ".dni-treeview td {\r\n",
       "    vertical-align: top;\r\n",
       "    text-align: start;\r\n",
       "}\r\n",
       "details.dni-treeview {\r\n",
       "    padding-left: 1em;\r\n",
       "}\r\n",
       "table td {\r\n",
       "    text-align: start;\r\n",
       "}\r\n",
       "table tr { \r\n",
       "    vertical-align: top; \r\n",
       "    margin: 0em 0px;\r\n",
       "}\r\n",
       "table tr td pre \r\n",
       "{ \r\n",
       "    vertical-align: top !important; \r\n",
       "    margin: 0em 0px !important;\r\n",
       "} \r\n",
       "table th {\r\n",
       "    text-align: start;\r\n",
       "}\r\n",
       "</style>"
      ]
     },
     "metadata": {},
     "output_type": "display_data"
    }
   ],
   "source": [
    "try\n",
    "{\n",
    "    if(directionsInvalid)\n",
    "    {\n",
    "        throw new Exception(\"Parsing the directions failed.\");\n",
    "    }\n",
    "    x = Math.Abs(x);\n",
    "    y = Math.Abs(y);\n",
    "    double distance = Math.Sqrt(Math.Pow(x, 2) + Math.Pow(y, 2));\n",
    "    Console.WriteLine(distance);\n",
    "\n",
    "    return(distance);\n",
    "}\n",
    "catch(Exception e)\n",
    "{\n",
    "    Console.WriteLine(e.Message);\n",
    "}\n",
    "\n"
   ]
  }
 ],
 "metadata": {
  "kernelspec": {
   "display_name": ".NET (C#)",
   "language": "C#",
   "name": ".net-csharp"
  },
  "language_info": {
   "name": "polyglot-notebook"
  },
  "polyglot_notebook": {
   "kernelInfo": {
    "defaultKernelName": "csharp",
    "items": [
     {
      "aliases": [],
      "languageName": "csharp",
      "name": "csharp"
     }
    ]
   }
  }
 },
 "nbformat": 4,
 "nbformat_minor": 2
}
